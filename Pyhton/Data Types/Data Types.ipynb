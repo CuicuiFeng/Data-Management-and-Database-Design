{
 "cells": [
  {
   "cell_type": "code",
   "execution_count": 4,
   "metadata": {},
   "outputs": [
    {
     "name": "stdout",
     "output_type": "stream",
     "text": [
      "38\n"
     ]
    }
   ],
   "source": [
    "from __future__ import print_function\n",
    "print(33+5)"
   ]
  },
  {
   "cell_type": "code",
   "execution_count": 6,
   "metadata": {},
   "outputs": [
    {
     "name": "stdout",
     "output_type": "stream",
     "text": [
      "1.0\n"
     ]
    }
   ],
   "source": [
    "print(5.5//3.3)\n",
    "# Discard the fractional part and do integer division."
   ]
  },
  {
   "cell_type": "code",
   "execution_count": 7,
   "metadata": {},
   "outputs": [
    {
     "name": "stdout",
     "output_type": "stream",
     "text": [
      "7\n"
     ]
    }
   ],
   "source": [
    "print(2^5) \n",
    "# XOR (exclusive OR).\n",
    "# 0010  # 2 (binary)\n",
    "# 0101  # 5 (binary)\n",
    "# ----  # APPLY XOR ('vertically')\n",
    "# 0111  # result = 7 (binary)"
   ]
  },
  {
   "cell_type": "code",
   "execution_count": 8,
   "metadata": {},
   "outputs": [
    {
     "name": "stdout",
     "output_type": "stream",
     "text": [
      "1\n",
      "173\n",
      "73\n",
      "7\n"
     ]
    }
   ],
   "source": [
    "print(3%2) # Modulo\n",
    "print(0xAD) # Hexadecimal\n",
    "print(0o111) # Octal\n",
    "print(0b0111) # Binary"
   ]
  },
  {
   "cell_type": "code",
   "execution_count": null,
   "metadata": {},
   "outputs": [],
   "source": [
    "Data Types"
   ]
  },
  {
   "cell_type": "code",
   "execution_count": 13,
   "metadata": {},
   "outputs": [
    {
     "name": "stdout",
     "output_type": "stream",
     "text": [
      "<class 'list'>\n",
      "<class 'float'>\n",
      "<class 'str'>\n",
      "13\n",
      "December\n",
      "November\n"
     ]
    }
   ],
   "source": [
    "months = [\n",
    "1.0,    \n",
    "'January',\n",
    "'February',\n",
    "'March',\n",
    "'April',\n",
    "'May',\n",
    "'June',\n",
    "'July',\n",
    "'August',\n",
    "'September',\n",
    "'October',\n",
    "'November',\n",
    "'December'\n",
    "]\n",
    "print(type(months))\n",
    "print(type(months[0]))\n",
    "print(type(months[1]))\n",
    "print(len(months))\n",
    "print(months[-1])\n",
    "print(months[len(months)-2])"
   ]
  },
  {
   "cell_type": "code",
   "execution_count": 21,
   "metadata": {},
   "outputs": [
    {
     "name": "stdout",
     "output_type": "stream",
     "text": [
      "['May', 'June', 'July', 'August', 'September', 'October', 'November', 'December']\n",
      "['June', 'July', 'August', 'September', 'October', 'November', 'December']\n",
      "[]\n",
      "[]\n",
      "['June', 'July', 'August', 'September', 'October', 'November', 'December']\n",
      "['June', 'August', 'October', 'December']\n",
      "October\n",
      "['October', 'November']\n"
     ]
    }
   ],
   "source": [
    "print(months)\n",
    "del months[0]\n",
    "print(months)\n",
    "print(months[10:11])\n",
    "print(months[9:])\n",
    "print(months[:]) # everything\n",
    "print(months[::2]) #skip by 2\n",
    "print(months[-3]) \n",
    "print(months[-3:-1]) # second to last to third to last"
   ]
  },
  {
   "cell_type": "code",
   "execution_count": 22,
   "metadata": {},
   "outputs": [
    {
     "name": "stdout",
     "output_type": "stream",
     "text": [
      "['December', 'September']\n",
      "['December', 'November', 'October', 'September', 'August']\n"
     ]
    }
   ],
   "source": [
    "print(months[10:1:-3]) # Print 10 to 1 - i.e. skip by 3\n",
    "print(months[10:1:-1])  # Print 10 to 1 - i.e. no skip but descending"
   ]
  },
  {
   "cell_type": "code",
   "execution_count": 23,
   "metadata": {},
   "outputs": [
    {
     "name": "stdout",
     "output_type": "stream",
     "text": [
      "[1, 2, 3, 4, 5, 6]\n",
      "Hello, world!\n",
      "BearBearBearBearBear\n",
      "True\n",
      "False\n",
      "range(1, 6)\n",
      "[1, 2, 3, 4, 5, 6, 7, 8]\n",
      "[1, 2, 5, 4, 5, 6, 7, 8]\n",
      "[1, 2, 4, 5, 6, 7, 8]\n",
      "[1, 2, 6, 7, 8]\n"
     ]
    }
   ],
   "source": [
    "print([1, 2, 3] + [4, 5, 6]) # join two lists\n",
    "print('Hello, ' + 'world!')  # concatenate two strings\n",
    "name='Bear' # Create string 'Bear'\n",
    "print(name*5) # concatenate 5 times\n",
    "print('B' in name) # Test if B in Bear\n",
    "print('b' in name)  # Test if b in Bear\n",
    "s=range(1,6) # Range doesn't create lists in python 3\n",
    "print(s)\n",
    "s=list(range(1,9)) # Using range to create lists in python 3\n",
    "print(s)\n",
    "s[2]=5\n",
    "print(s)\n",
    "del s[2] # Delete an item\n",
    "print(s)\n",
    "del s[2:4] # Delete more than one item\n",
    "print(s)"
   ]
  },
  {
   "cell_type": "code",
   "execution_count": 27,
   "metadata": {},
   "outputs": [
    {
     "name": "stdout",
     "output_type": "stream",
     "text": [
      "[1, 2, 3, 4, 5]\n",
      "[1, 2, 4, 5]\n",
      "(1, 2, 3, 4, 5)\n",
      "32\n",
      "32\n"
     ]
    }
   ],
   "source": [
    "t=[1, 2, 3, 4, 5] #  Create a list\n",
    "print(t)\n",
    "del t[2]\n",
    "print(t)\n",
    "t=(1, 2, 3, 4, 5) #  Create a tuple, doesn't support item deletion\n",
    "print(t)\n",
    "\n",
    "print(2 ** 5) # Power\n",
    "print(pow(2, 5)) # Power using function"
   ]
  },
  {
   "cell_type": "code",
   "execution_count": 29,
   "metadata": {},
   "outputs": [
    {
     "name": "stdout",
     "output_type": "stream",
     "text": [
      "34\n",
      "3.0\n",
      "3.0\n"
     ]
    }
   ],
   "source": [
    "import math\n",
    "print(math.ceil(33.3))\n",
    "print(math.sqrt(9))\n",
    "\n",
    "from math import sqrt\n",
    "print(sqrt(9))"
   ]
  },
  {
   "cell_type": "code",
   "execution_count": null,
   "metadata": {},
   "outputs": [],
   "source": [
    "List Methods"
   ]
  },
  {
   "cell_type": "code",
   "execution_count": 30,
   "metadata": {},
   "outputs": [
    {
     "name": "stdout",
     "output_type": "stream",
     "text": [
      "['Rick Sanchez', 1.0, 'Morty Smith', 'Mr. Meeseeks']\n",
      "['Rick Sanchez', 1.0, 'Morty Smith', 'Mr. Meeseeks', 'Doofus Rick']\n",
      "['Scary Terry', 'Rick Sanchez', 1.0, 'Morty Smith', 'Mr. Meeseeks', 'Doofus Rick']\n",
      "['Scary Terry', 'Rick Sanchez', 1.0, 'Morty Smith', 'Mr. Meeseeks', 'Doofus Rick', 'Squanchy', 'Mr. Poopybutthole']\n",
      "3\n",
      "['Scary Terry', 'Rick Sanchez', 1.0, 'Morty Smith', 'Mr. Meeseeks', 'Doofus Rick', 'Squanchy', 'Mr. Poopybutthole']\n",
      "['Scary Terry', 'Rick Sanchez', 1.0, 'Mr. Meeseeks', 'Doofus Rick', 'Squanchy', 'Mr. Poopybutthole']\n",
      "Rick Sanchez\n",
      "['Scary Terry', 1.0, 'Mr. Meeseeks', 'Doofus Rick', 'Squanchy', 'Mr. Poopybutthole']\n"
     ]
    }
   ],
   "source": [
    "l = ['Rick Sanchez',1.0, 'Morty Smith', 'Mr. Meeseeks']\n",
    "print (l)    \n",
    "l.append('Doofus Rick')         ## append item at end\n",
    "print (l)\n",
    "l.insert(0, 'Scary Terry')        ## insert item at index 0\n",
    "print (l)\n",
    "l.extend(['Squanchy', 'Mr. Poopybutthole'])  ## add list of items at end\n",
    "print (l)\n",
    "print (l.index('Morty Smith'))   \n",
    "print (l)\n",
    "l.remove('Morty Smith') ## search and remove an item\n",
    "print (l)\n",
    "print(l.pop(1)) ## removes and returns 'Rick Sanchez' second item\n",
    "print (l)"
   ]
  },
  {
   "cell_type": "code",
   "execution_count": null,
   "metadata": {},
   "outputs": [],
   "source": [
    "Dictionaries"
   ]
  },
  {
   "cell_type": "code",
   "execution_count": 31,
   "metadata": {},
   "outputs": [
    {
     "name": "stdout",
     "output_type": "stream",
     "text": [
      "dict_keys(['python', 'R', 33, 'C++'])\n",
      "333\n",
      "True\n",
      "False\n",
      "{'java': 33, 'C#': 22, 'Scala': 11}\n",
      "{'python': 333, 'R': 222, 33: 111, 'C++': 111, 'java': 33, 'C#': 22, 'Scala': 11}\n"
     ]
    }
   ],
   "source": [
    "d={\"python\": 333, \"R\": 222, 33: 111, \"C++\": 111} # Create a dictionary\n",
    "print(d.keys())\n",
    "print(d[\"python\"]) # List value with key \"python\"\n",
    "print(\"python\" in d) # Check if \"python\" in dictionary\n",
    "print(\"java\" in d) # Check if \"java\" in dictionary\n",
    "\n",
    "d2={\"java\": 33, \"C#\": 22, \"Scala\": 11} # Create a dictionary\n",
    "print(d2)\n",
    "d.update(d2) # add dictionary to another dictionary\n",
    "print(d)"
   ]
  },
  {
   "cell_type": "code",
   "execution_count": 32,
   "metadata": {},
   "outputs": [
    {
     "name": "stdout",
     "output_type": "stream",
     "text": [
      "python\n",
      "R\n",
      "33\n",
      "C++\n",
      "java\n",
      "C#\n",
      "Scala\n",
      "dict_keys(['python', 'R', 33, 'C++', 'java', 'C#', 'Scala'])\n",
      "333\n",
      "222\n",
      "111\n",
      "111\n",
      "33\n",
      "22\n",
      "11\n",
      "dict_values([333, 222, 111, 111, 33, 22, 11])\n"
     ]
    }
   ],
   "source": [
    "for key in d: # List keys in dictionary\n",
    "  print(key)\n",
    "print(d.keys())\n",
    "for key in d: # List values in dictionary\n",
    "  print(d[key])\n",
    "print(d.values())"
   ]
  },
  {
   "cell_type": "code",
   "execution_count": 33,
   "metadata": {},
   "outputs": [
    {
     "name": "stdout",
     "output_type": "stream",
     "text": [
      "{'python': 333, 'R': 222, 33: 111, 'C++': 111, 'java': 33, 'C#': 22, 'Scala': 11}\n",
      "{'python': 333, 'R': 222, 33: 111, 'C++': 55, 'java': 33, 'C#': 22, 'Scala': 11}\n",
      "{'python': 333, 'R': 222, 33: 111, 'C++': 111, 'java': 33, 'C#': 22, 'Scala': 11}\n"
     ]
    }
   ],
   "source": [
    "d_backup = d.copy() # Create  dictionary copy\n",
    "print(d_backup)\n",
    "d['C++']=55\n",
    "print(d)\n",
    "print(d_backup)"
   ]
  },
  {
   "cell_type": "code",
   "execution_count": 34,
   "metadata": {},
   "outputs": [
    {
     "name": "stdout",
     "output_type": "stream",
     "text": [
      "0\n",
      "{'python': 333, 'R': 222, 33: 111, 'C++': 111, 'C#': 22, 'Scala': 11}\n",
      "1\n"
     ]
    }
   ],
   "source": [
    "print(len(d)-len(d_backup))\n",
    "del d_backup[\"java\"]\n",
    "print(d_backup)\n",
    "print(len(d)-len(d_backup))  # Note original isn't changed"
   ]
  },
  {
   "cell_type": "code",
   "execution_count": null,
   "metadata": {},
   "outputs": [],
   "source": [
    "Conditionals"
   ]
  },
  {
   "cell_type": "code",
   "execution_count": 35,
   "metadata": {},
   "outputs": [
    {
     "name": "stdout",
     "output_type": "stream",
     "text": [
      "Oh no!!!\n",
      "Whew!!!\n",
      "Oooo yeah, caaan doo!!!!\n"
     ]
    }
   ],
   "source": [
    "l=['Scary Terry', 'Rick Sanchez', 'Morty Smith', 'Mr. Meeseeks', 'Doofus Rick', 'Squanchy', 'Mr. Poopybutthole']\n",
    "if 'Scary Terry' in l:\n",
    "    print (\"Oh no!!!\")\n",
    "    \n",
    "if 'Scary Tarry' in l:\n",
    "    print (\"Oh no!!!\") \n",
    "else:\n",
    "    print (\"Whew!!!\")\n",
    "    \n",
    "if 'Scary Tarry' in l:\n",
    "    print (\"Oh no!!!\") \n",
    "elif 'Mr. Meeseeks' in l:\n",
    "    print (\"Oooo yeah, caaan doo!!!!\")     \n",
    "else:\n",
    "    print (\"Whew!!!\") "
   ]
  },
  {
   "cell_type": "code",
   "execution_count": null,
   "metadata": {},
   "outputs": [],
   "source": [
    "For Loops"
   ]
  },
  {
   "cell_type": "code",
   "execution_count": 36,
   "metadata": {},
   "outputs": [
    {
     "name": "stdout",
     "output_type": "stream",
     "text": [
      "Scary Terry\n",
      "Rick Sanchez\n",
      "Morty Smith\n",
      "Mr. Meeseeks\n",
      "Doofus Rick\n",
      "Squanchy\n",
      "Mr. Poopybutthole\n"
     ]
    }
   ],
   "source": [
    "for name in l:\n",
    "    print(name)"
   ]
  },
  {
   "cell_type": "code",
   "execution_count": null,
   "metadata": {},
   "outputs": [],
   "source": [
    "While Loops"
   ]
  },
  {
   "cell_type": "code",
   "execution_count": 37,
   "metadata": {},
   "outputs": [
    {
     "name": "stdout",
     "output_type": "stream",
     "text": [
      "1\n",
      "2\n",
      "3\n",
      "4\n",
      "5\n"
     ]
    }
   ],
   "source": [
    "x = 1\n",
    "while x <= 5:\n",
    "    print(x)\n",
    "    x += 1"
   ]
  },
  {
   "cell_type": "code",
   "execution_count": 38,
   "metadata": {
    "scrolled": true
   },
   "outputs": [
    {
     "name": "stdout",
     "output_type": "stream",
     "text": [
      "2\n",
      "4\n",
      "6\n"
     ]
    }
   ],
   "source": [
    "x = 1\n",
    "while x <= 5:\n",
    "    x += 1 \n",
    "    if (x%2==0):\n",
    "      print(x)"
   ]
  },
  {
   "cell_type": "code",
   "execution_count": null,
   "metadata": {},
   "outputs": [],
   "source": [
    "Functions"
   ]
  },
  {
   "cell_type": "code",
   "execution_count": 39,
   "metadata": {},
   "outputs": [
    {
     "name": "stdout",
     "output_type": "stream",
     "text": [
      "[0, 1, 1, 2, 3, 5, 8, 13, 21]\n"
     ]
    }
   ],
   "source": [
    "def fibonacci_seq(n):  # Function syntax\n",
    "  result = [0, 1]\n",
    "  for i in range(n-2):\n",
    "    result.append(result[-2] + result[-1])\n",
    "  return result\n",
    "print(fibonacci_seq(9))"
   ]
  }
 ],
 "metadata": {
  "kernelspec": {
   "display_name": "Python 3",
   "language": "python",
   "name": "python3"
  },
  "language_info": {
   "codemirror_mode": {
    "name": "ipython",
    "version": 3
   },
   "file_extension": ".py",
   "mimetype": "text/x-python",
   "name": "python",
   "nbconvert_exporter": "python",
   "pygments_lexer": "ipython3",
   "version": "3.7.1"
  }
 },
 "nbformat": 4,
 "nbformat_minor": 2
}
